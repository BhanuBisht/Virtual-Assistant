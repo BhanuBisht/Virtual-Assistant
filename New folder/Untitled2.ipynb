{
 "cells": [
  {
   "cell_type": "code",
   "execution_count": 6,
   "metadata": {},
   "outputs": [],
   "source": [
    "import speech_recognition as sr\n",
    "from time import ctime\n",
    "import time\n",
    "import os\n",
    "import pyttsx3"
   ]
  },
  {
   "cell_type": "code",
   "execution_count": 11,
   "metadata": {},
   "outputs": [],
   "source": [
    "def speak(audioString):\n",
    "    engine = pyttsx3.init()\n",
    "    engine.say(audioString)\n",
    "    engine.runAndWait()\n",
    "    print(audioString)"
   ]
  },
  {
   "cell_type": "code",
   "execution_count": 8,
   "metadata": {},
   "outputs": [],
   "source": [
    "def recordAudio():\n",
    "    r = sr.Recognizer()\n",
    "    mic = sr.Microphone()\n",
    "    with mic as source:\n",
    "        print(\"say Something\")\n",
    "        r.adjust_for_ambient_noise(source)\n",
    "        audio = r.listen(source)\n",
    "    data=\"\"\n",
    "    try:\n",
    "        data=r.recognize_google(audio);\n",
    "        print(\"You said \" + data)\n",
    "    except sr.UnknownValueError:\n",
    "        print(\"Could not understand audio\")\n",
    "    except sr.RequestError as e:\n",
    "        print(\"Could not request results; {0}\".format(e))\n",
    "    return data"
   ]
  },
  {
   "cell_type": "code",
   "execution_count": 9,
   "metadata": {},
   "outputs": [],
   "source": [
    "def jarvis(data,name):\n",
    "    if \"how are you\" in data:\n",
    "        speak(\"I am fine\")\n",
    " \n",
    "    if \"what time is it\" in data:\n",
    "        speak(ctime())\n",
    " \n",
    "    if \"where is\" in data:\n",
    "        data = data.split(\" \")\n",
    "        location = str(data[2])\n",
    "        speak(\"Hold on \"+name+\", I will show you where \" + location + \" is.\")\n",
    "        os.system(\"start chrome \\\"www.google.nl/maps/place/\" + location + \"/&amp;\\\"\")\n",
    "\n",
    "    if \"open Chrome\" in data:\n",
    "        speak(\"Hold on \"+name+\", Opening Chrome\")\n",
    "        os.system(\"start chrome \\\"www.google.com\\\"\")\n",
    "\n",
    "    if \"search\" in data:\n",
    "        str1 = data.strip('search')\n",
    "        speak(\"Hold on \"+name+\", Opening Chrome\")\n",
    "        os.system(\"start chrome \\\"https://www.google.co.in/search?q=\"+str1+\"\\\"\")"
   ]
  },
  {
   "cell_type": "code",
   "execution_count": 5,
   "metadata": {},
   "outputs": [
    {
     "name": "stdout",
     "output_type": "stream",
     "text": [
      "Hi I am Jarvis, Whats Your Name : \n",
      "Choose Input Method:\n",
      "1. Form MIC\n",
      "2. From Keyboard \n",
      ": 1\n",
      "say Something\n",
      "You said Bhanu Chander\n",
      "Initializing.../.\n"
     ]
    }
   ],
   "source": [
    "speak(\"Hi I am Jarvis, Whats Your Name : \",sp)\n",
    "numa=input(\"Choose Input Method:\\n1. Form MIC\\n2. From Keyboard \\n: \")\n",
    "if(numa=='1'):\n",
    "    name=recordAudio()\n",
    "elif(numa=='2'):\n",
    "    name=input(\"Enter The Name : \")\n",
    "print(\"Initializing.../.\")"
   ]
  },
  {
   "cell_type": "code",
   "execution_count": 12,
   "metadata": {},
   "outputs": [
    {
     "name": "stdout",
     "output_type": "stream",
     "text": [
      "Hi Bhanu Chander, what can I do for you?\n",
      "say Something\n",
      "You said requirement\n"
     ]
    }
   ],
   "source": [
    "speak(\"Hi \"+name+\", what can I do for you?\")\n",
    "data = recordAudio()\n",
    "jarvis(data,name)"
   ]
  },
  {
   "cell_type": "code",
   "execution_count": 13,
   "metadata": {},
   "outputs": [],
   "source": [
    "import en_core_web_lg # Large SpaCy model for English language\n",
    "import numpy as np\n",
    "import re # regular expressions\n",
    "import spacy # NLU library\n",
    "\n",
    "from collections import defaultdict\n",
    "from sklearn.svm import SVC # Support Vector Classification model\n",
    "output_format = \"IN: {input}\\nOUT: {output}\\n\" + \"_\"*50"
   ]
  },
  {
   "cell_type": "code",
   "execution_count": 14,
   "metadata": {},
   "outputs": [],
   "source": [
    "training_sentences = [\n",
    "    \"What would you like to have for dinner?\",\n",
    "    \"What do you want to eat tonight?\",\n",
    "    \"I don't know what to cook tonight.\",\n",
    "    \"Do you have any cravings?\",\n",
    "    \"Can I get you something to eat?\", \n",
    "    \"What time will you be home?\",\n",
    "    \"How much longer will you be?\",\n",
    "    \"When can we expect you to get here?\",\n",
    "    \"What's taking you so long?\",\n",
    "    \"At what hour will you be here?\",\n",
    "]\n",
    "training_intents = [\n",
    "    \"dinner_preference\",\n",
    "    \"dinner_preference\",\n",
    "    \"dinner_preference\",\n",
    "    \"dinner_preference\",\n",
    "    \"dinner_preference\",\n",
    "    \"arrival_time\",\n",
    "    \"arrival_time\",\n",
    "    \"arrival_time\",\n",
    "    \"arrival_time\",\n",
    "    \"arrival_time\",\n",
    "]"
   ]
  },
  {
   "cell_type": "code",
   "execution_count": 15,
   "metadata": {},
   "outputs": [],
   "source": [
    "nlp = en_core_web_lg.load()"
   ]
  },
  {
   "cell_type": "code",
   "execution_count": 16,
   "metadata": {},
   "outputs": [],
   "source": [
    "X_train = np.zeros((len(training_sentences), \n",
    "              nlp('sentences').vocab.vectors_length))\n",
    "\n",
    "for i, sentence in enumerate(training_sentences):\n",
    "    # Pass each each sentence to the nlp object to create a document\n",
    "    doc = nlp(sentence)\n",
    "    # Save the document's .vector attribute to the corresponding row in X\n",
    "    X_train[i, :] = doc.vector"
   ]
  },
  {
   "cell_type": "code",
   "execution_count": 17,
   "metadata": {},
   "outputs": [],
   "source": [
    "X_train = np.zeros((len(training_sentences), \n",
    "              nlp('sentences').vocab.vectors_length))\n",
    "\n",
    "for i, sentence in enumerate(training_sentences):\n",
    "    # Pass each each sentence to the nlp object to create a document\n",
    "    doc = nlp(sentence)\n",
    "    # Save the document's .vector attribute to the corresponding row in X\n",
    "    X_train[i, :] = doc.vector"
   ]
  },
  {
   "cell_type": "code",
   "execution_count": 21,
   "metadata": {},
   "outputs": [
    {
     "data": {
      "text/plain": [
       "SVC(C=1, cache_size=200, class_weight=None, coef0=0.0,\n",
       "  decision_function_shape='ovr', degree=3, gamma='auto', kernel='rbf',\n",
       "  max_iter=-1, probability=True, random_state=None, shrinking=True,\n",
       "  tol=0.001, verbose=False)"
      ]
     },
     "execution_count": 21,
     "metadata": {},
     "output_type": "execute_result"
    }
   ],
   "source": [
    "clf = SVC(C=1, gamma=\"auto\", probability=True)\n",
    "\n",
    "# Fit the classifier using the training data\n",
    "clf.fit(X_train, training_intents)"
   ]
  },
  {
   "cell_type": "code",
   "execution_count": 22,
   "metadata": {},
   "outputs": [],
   "source": [
    "def get_intent_ml(text):\n",
    "    doc = nlp(text)\n",
    "    return(clf.predict([doc.vector])[0])"
   ]
  },
  {
   "cell_type": "code",
   "execution_count": 23,
   "metadata": {},
   "outputs": [],
   "source": [
    "responses_ml = {\n",
    "    \"dinner_preference\":\"Pasta with salmon and red pesto please!\",\n",
    "    \"arrival_time\": \"I will be home around 6 pm.\",\n",
    "    \"default\":\"I like you too!\"\n",
    "}\n",
    "\n",
    "def respond_ml(text):\n",
    "    response = responses_ml.get(get_intent_ml(text), responses_ml[\"default\"])\n",
    "    return(output_format.format(input=text, output=response))"
   ]
  },
  {
   "cell_type": "code",
   "execution_count": 24,
   "metadata": {},
   "outputs": [
    {
     "name": "stdout",
     "output_type": "stream",
     "text": [
      "IN: what would you like to eat tonight?\n",
      "OUT: Pasta with salmon and red pesto please!\n",
      "__________________________________________________\n",
      "IN: what time will you be home tonight?\n",
      "OUT: I will be home around 6 pm.\n",
      "__________________________________________________\n",
      "IN: l\n",
      "OUT: Pasta with salmon and red pesto please!\n",
      "__________________________________________________\n"
     ]
    }
   ],
   "source": [
    "print(respond_ml(\"what would you like to eat tonight?\"))\n",
    "print(respond_ml(\"what time will you be home tonight?\"))\n",
    "print(respond_ml(\"l\"))"
   ]
  },
  {
   "cell_type": "code",
   "execution_count": null,
   "metadata": {},
   "outputs": [
    {
     "name": "stdout",
     "output_type": "stream",
     "text": [
      "say Something\n"
     ]
    }
   ],
   "source": [
    "data1 = recordAudio()\n",
    "print(respond_ml(data1))"
   ]
  },
  {
   "cell_type": "code",
   "execution_count": null,
   "metadata": {},
   "outputs": [],
   "source": []
  }
 ],
 "metadata": {
  "kernelspec": {
   "display_name": "Python 3",
   "language": "python",
   "name": "python3"
  },
  "language_info": {
   "codemirror_mode": {
    "name": "ipython",
    "version": 3
   },
   "file_extension": ".py",
   "mimetype": "text/x-python",
   "name": "python",
   "nbconvert_exporter": "python",
   "pygments_lexer": "ipython3",
   "version": "3.6.5"
  }
 },
 "nbformat": 4,
 "nbformat_minor": 2
}
